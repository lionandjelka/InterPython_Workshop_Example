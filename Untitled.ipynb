{
 "cells": [
  {
   "cell_type": "code",
   "execution_count": 1,
   "id": "abcbcb8f-1a1e-46cc-bd56-40f2e5c73f7b",
   "metadata": {},
   "outputs": [
    {
     "name": "stderr",
     "output_type": "stream",
     "text": [
      "/var/folders/zr/zf88v1fn1nx05gpjlrsmldtm0000gn/T/ipykernel_23542/1675511669.py:1: DeprecationWarning: \n",
      "Pyarrow will become a required dependency of pandas in the next major release of pandas (pandas 3.0),\n",
      "(to allow more performant data types, such as the Arrow string type, and better interoperability with other libraries)\n",
      "but was not found to be installed on your system.\n",
      "If this would cause problems for you,\n",
      "please provide us feedback at https://github.com/pandas-dev/pandas/issues/54466\n",
      "        \n",
      "  import pandas as pd\n"
     ]
    }
   ],
   "source": [
    "import pandas as pd\n",
    "import lcanalyzer.models as models"
   ]
  },
  {
   "cell_type": "code",
   "execution_count": null,
   "id": "89de255d-6dd6-411e-a8ff-876cd8541564",
   "metadata": {},
   "outputs": [],
   "source": []
  },
  {
   "cell_type": "code",
   "execution_count": 2,
   "id": "7658410f-143b-4ce8-bd11-5407d500431c",
   "metadata": {},
   "outputs": [
    {
     "name": "stdout",
     "output_type": "stream",
     "text": [
      "<class 'pandas.core.frame.DataFrame'>\n",
      "RangeIndex: 11177 entries, 0 to 11176\n",
      "Data columns (total 12 columns):\n",
      " #   Column       Non-Null Count  Dtype  \n",
      "---  ------       --------------  -----  \n",
      " 0   band         11177 non-null  object \n",
      " 1   ccdVisitId   11177 non-null  int64  \n",
      " 2   coord_ra     11177 non-null  float64\n",
      " 3   coord_dec    11177 non-null  float64\n",
      " 4   objectId     11177 non-null  int64  \n",
      " 5   psfFlux      11177 non-null  float64\n",
      " 6   psfFluxErr   11177 non-null  float64\n",
      " 7   psfMag       10944 non-null  float64\n",
      " 8   ccdVisitId2  11177 non-null  int64  \n",
      " 9   band2        11177 non-null  object \n",
      " 10  expMidptMJD  11177 non-null  float64\n",
      " 11  zeroPoint    11177 non-null  float32\n",
      "dtypes: float32(1), float64(6), int64(3), object(2)\n",
      "memory usage: 1004.3+ KB\n"
     ]
    }
   ],
   "source": [
    "lc_datasets = {}\n",
    "lc_datasets['lsst'] = pd.read_pickle('data/lsst_RRLyr.pkl')\n",
    "lc_datasets['lsst'].info()"
   ]
  },
  {
   "cell_type": "code",
   "execution_count": 3,
   "id": "ae83580b-89e0-421c-98c2-80e40f7b89b3",
   "metadata": {},
   "outputs": [
    {
     "data": {
      "text/html": [
       "<div>\n",
       "<style scoped>\n",
       "    .dataframe tbody tr th:only-of-type {\n",
       "        vertical-align: middle;\n",
       "    }\n",
       "\n",
       "    .dataframe tbody tr th {\n",
       "        vertical-align: top;\n",
       "    }\n",
       "\n",
       "    .dataframe thead th {\n",
       "        text-align: right;\n",
       "    }\n",
       "</style>\n",
       "<table border=\"1\" class=\"dataframe\">\n",
       "  <thead>\n",
       "    <tr style=\"text-align: right;\">\n",
       "      <th></th>\n",
       "      <th>band</th>\n",
       "      <th>ccdVisitId</th>\n",
       "      <th>coord_ra</th>\n",
       "      <th>coord_dec</th>\n",
       "      <th>objectId</th>\n",
       "      <th>psfFlux</th>\n",
       "      <th>psfFluxErr</th>\n",
       "      <th>psfMag</th>\n",
       "      <th>ccdVisitId2</th>\n",
       "      <th>band2</th>\n",
       "      <th>expMidptMJD</th>\n",
       "      <th>zeroPoint</th>\n",
       "    </tr>\n",
       "  </thead>\n",
       "  <tbody>\n",
       "    <tr>\n",
       "      <th>0</th>\n",
       "      <td>y</td>\n",
       "      <td>1032263018</td>\n",
       "      <td>62.462569</td>\n",
       "      <td>-44.11336</td>\n",
       "      <td>1251384969897480052</td>\n",
       "      <td>-515.183603</td>\n",
       "      <td>1697.218490</td>\n",
       "      <td>NaN</td>\n",
       "      <td>1032263018</td>\n",
       "      <td>y</td>\n",
       "      <td>61100.069706</td>\n",
       "      <td>30.602301</td>\n",
       "    </tr>\n",
       "    <tr>\n",
       "      <th>1</th>\n",
       "      <td>y</td>\n",
       "      <td>1033987172</td>\n",
       "      <td>62.462569</td>\n",
       "      <td>-44.11336</td>\n",
       "      <td>1251384969897480052</td>\n",
       "      <td>3151.738459</td>\n",
       "      <td>1686.955775</td>\n",
       "      <td>22.653625</td>\n",
       "      <td>1033987172</td>\n",
       "      <td>y</td>\n",
       "      <td>61102.068464</td>\n",
       "      <td>30.606100</td>\n",
       "    </tr>\n",
       "    <tr>\n",
       "      <th>2</th>\n",
       "      <td>u</td>\n",
       "      <td>675163080</td>\n",
       "      <td>62.462569</td>\n",
       "      <td>-44.11336</td>\n",
       "      <td>1251384969897480052</td>\n",
       "      <td>183.449123</td>\n",
       "      <td>209.242045</td>\n",
       "      <td>25.741211</td>\n",
       "      <td>675163080</td>\n",
       "      <td>u</td>\n",
       "      <td>60582.247144</td>\n",
       "      <td>30.469101</td>\n",
       "    </tr>\n",
       "    <tr>\n",
       "      <th>3</th>\n",
       "      <td>y</td>\n",
       "      <td>443055067</td>\n",
       "      <td>62.462569</td>\n",
       "      <td>-44.11336</td>\n",
       "      <td>1251384969897480052</td>\n",
       "      <td>-704.848327</td>\n",
       "      <td>1624.400086</td>\n",
       "      <td>NaN</td>\n",
       "      <td>443055067</td>\n",
       "      <td>y</td>\n",
       "      <td>60215.203585</td>\n",
       "      <td>30.612801</td>\n",
       "    </tr>\n",
       "    <tr>\n",
       "      <th>4</th>\n",
       "      <td>u</td>\n",
       "      <td>466722002</td>\n",
       "      <td>62.462569</td>\n",
       "      <td>-44.11336</td>\n",
       "      <td>1251384969897480052</td>\n",
       "      <td>382.472233</td>\n",
       "      <td>278.926670</td>\n",
       "      <td>24.943500</td>\n",
       "      <td>466722002</td>\n",
       "      <td>u</td>\n",
       "      <td>60261.078221</td>\n",
       "      <td>30.461201</td>\n",
       "    </tr>\n",
       "  </tbody>\n",
       "</table>\n",
       "</div>"
      ],
      "text/plain": [
       "  band  ccdVisitId   coord_ra  coord_dec             objectId      psfFlux  \\\n",
       "0    y  1032263018  62.462569  -44.11336  1251384969897480052  -515.183603   \n",
       "1    y  1033987172  62.462569  -44.11336  1251384969897480052  3151.738459   \n",
       "2    u   675163080  62.462569  -44.11336  1251384969897480052   183.449123   \n",
       "3    y   443055067  62.462569  -44.11336  1251384969897480052  -704.848327   \n",
       "4    u   466722002  62.462569  -44.11336  1251384969897480052   382.472233   \n",
       "\n",
       "    psfFluxErr     psfMag  ccdVisitId2 band2   expMidptMJD  zeroPoint  \n",
       "0  1697.218490        NaN   1032263018     y  61100.069706  30.602301  \n",
       "1  1686.955775  22.653625   1033987172     y  61102.068464  30.606100  \n",
       "2   209.242045  25.741211    675163080     u  60582.247144  30.469101  \n",
       "3  1624.400086        NaN    443055067     y  60215.203585  30.612801  \n",
       "4   278.926670  24.943500    466722002     u  60261.078221  30.461201  "
      ]
     },
     "execution_count": 3,
     "metadata": {},
     "output_type": "execute_result"
    }
   ],
   "source": [
    "lc_datasets['lsst'].head()"
   ]
  },
  {
   "cell_type": "code",
   "execution_count": 4,
   "id": "930930c6-fdae-40e5-ab26-677d8d5d7375",
   "metadata": {},
   "outputs": [],
   "source": [
    "### Pick an object\n",
    "obj_id = lc_datasets['lsst']['objectId'].unique()[4]"
   ]
  },
  {
   "cell_type": "code",
   "execution_count": 5,
   "id": "e916f74d-7c27-47f9-8277-f36e8fa7e618",
   "metadata": {},
   "outputs": [],
   "source": [
    "### Get all the observations for this obj_id for each band\n",
    "# Create an empty dict\n",
    "lc = {}\n",
    "# Define the bands names\n",
    "bands = 'ugrizy'\n",
    "# For each band create a bool array that indicates\n",
    "# that this observation belongs to a certain object and is made in a\n",
    "# certain band\n",
    "for b in bands:\n",
    "    filt_band_obj = (lc_datasets['lsst']['objectId'] == obj_id) & (\n",
    "        lc_datasets['lsst']['band'] == b\n",
    "    )\n",
    "    # Select the observations and store in the dict 'lc'\n",
    "    lc[b] = lc_datasets['lsst'][filt_band_obj]"
   ]
  },
  {
   "cell_type": "code",
   "execution_count": 6,
   "id": "61837374-10c8-42d9-aa78-031eddcbf1ab",
   "metadata": {},
   "outputs": [
    {
     "data": {
      "text/plain": [
       "19.183367224358136"
      ]
     },
     "execution_count": 6,
     "metadata": {},
     "output_type": "execute_result"
    }
   ],
   "source": [
    "models.max_mag(lc['g'],'psfMag')"
   ]
  },
  {
   "cell_type": "code",
   "execution_count": 7,
   "id": "5ef12351-313d-456b-8c2d-ed1d53a70e33",
   "metadata": {},
   "outputs": [
    {
     "data": {
      "text/plain": [
       "True"
      ]
     },
     "execution_count": 7,
     "metadata": {},
     "output_type": "execute_result"
    }
   ],
   "source": [
    "test_input = pd.DataFrame(data=[[1, 5, 3], [7, 8, 9], [3, 4, 1]], columns=list(\"abc\"))\n",
    "test_output = 7\n",
    "models.max_mag(test_input, \"a\") == test_output"
   ]
  },
  {
   "cell_type": "code",
   "execution_count": 8,
   "id": "0e4ffe2d-5d78-4fe8-8525-c6b2a9a0ebca",
   "metadata": {},
   "outputs": [],
   "source": [
    "### Get maximum values for all bands\n",
    "def calc_stat(lc, bands, mag_col):\n",
    "    # Define an empty dictionary where we will store the results\n",
    "    stat = {}\n",
    "    # For each band get the maximum value and store it in the dictionary\n",
    "    for b in bands:\n",
    "        stat[b + \"_max\"] = models.max_mag(lc[b], mag_col)\n",
    "    return stat"
   ]
  },
  {
   "cell_type": "code",
   "execution_count": 9,
   "id": "0d5c6bdc-fd1e-4b42-b1c7-72676687d489",
   "metadata": {},
   "outputs": [
    {
     "data": {
      "text/plain": [
       "False"
      ]
     },
     "execution_count": 9,
     "metadata": {},
     "output_type": "execute_result"
    }
   ],
   "source": [
    "df1 = pd.DataFrame(data=[[1, 5, 3], [7, 8, 9], [3, 4, 1]], columns=list(\"abc\"))\n",
    "df2 = pd.DataFrame(data=[[7, 3, 2], [8, 4, 2], [5, 6, 4]], columns=list(\"abc\"))\n",
    "df3 = pd.DataFrame(data=[[2, 6, 3], [1, 3, 6], [8, 9, 1]], columns=list(\"abc\"))\n",
    "test_input = {\"df1\": df1, \"df2\": df2, \"df3\": df3}\n",
    "test_output = {\"df1_max\": 8, \"df12_max\": 6, \"df3_max\": 8}\n",
    "test_output == calc_stat(test_input, [\"df1\", \"df2\", \"df3\"], \"b\")"
   ]
  },
  {
   "cell_type": "code",
   "execution_count": null,
   "id": "70896b81-2169-4806-a3fe-74d6f231424b",
   "metadata": {},
   "outputs": [],
   "source": []
  }
 ],
 "metadata": {
  "kernelspec": {
   "display_name": "Python 3 (ipykernel)",
   "language": "python",
   "name": "python3"
  },
  "language_info": {
   "codemirror_mode": {
    "name": "ipython",
    "version": 3
   },
   "file_extension": ".py",
   "mimetype": "text/x-python",
   "name": "python",
   "nbconvert_exporter": "python",
   "pygments_lexer": "ipython3",
   "version": "3.10.9"
  }
 },
 "nbformat": 4,
 "nbformat_minor": 5
}
